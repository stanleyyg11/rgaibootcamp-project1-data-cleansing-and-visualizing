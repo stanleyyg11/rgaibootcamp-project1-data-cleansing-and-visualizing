{
 "cells": [
  {
   "cell_type": "code",
   "execution_count": 1,
   "metadata": {},
   "outputs": [],
   "source": [
    "import pandas as pd\n",
    "import numpy as np\n",
    "import matplotlib.pyplot as plt"
   ]
  },
  {
   "cell_type": "code",
   "execution_count": null,
   "metadata": {},
   "outputs": [],
   "source": [
    "url = 'https://storage.googleapis.com/rg-ai-bootcamp/assignment-1/fifa21_raw_data.csv'\n",
    "fifa_df = pd.read_csv(url, low_memory=False)\n",
    "fifa_df"
   ]
  },
  {
   "cell_type": "markdown",
   "metadata": {},
   "source": [
    "Task 1: Removing the 'Unnamed: 0' Column\n",
    "\n",
    "In this first task, you have to deal with unnecessary data in our data set. Specifically, the data set contains a column labeled Unnamed: 0, which does not make a significant contribution to our data analysis needs. Your goal is to effectively remove this column from the FIFA 21 Players data set. Remember that it is very important to manipulate only the unneeded parts of the data and keep the rest intact.\n",
    "\n",
    "Please make sure to:\n",
    "\n",
    "Read the CSV file carefully to understand the structure of the data.\n",
    "Identify a suitable method to remove the specified column from the DataFrame.\n",
    "Validate that the column has been removed successfully by inspecting the resulting DataFrame."
   ]
  },
  {
   "cell_type": "code",
   "execution_count": null,
   "metadata": {},
   "outputs": [],
   "source": [
    "# @title #### 01. Removing the 'Unnamed: 0' Column\n",
    "\n",
    "# Put your code here:\n",
    "fifa_df2 = fifa_df.drop(\"Unnamed: 0\", axis='columns')\n",
    "\n",
    "fifa_df2"
   ]
  },
  {
   "cell_type": "code",
   "execution_count": null,
   "metadata": {},
   "outputs": [],
   "source": []
  },
  {
   "cell_type": "markdown",
   "metadata": {},
   "source": [
    "Task 2: Removing the Newline Characters\n",
    "\n",
    "In your second task, you will navigate into deeper waters of data cleaning by removing the newline characters (\\n) from the dataset. This nuisance feature could occur in various columns and can disrupt accurate data parsing. So, it's an important step to assure the integrity and consistency of our data.\n",
    "\n",
    "Here are a few tips to guide you on this task:\n",
    "\n",
    "Start by detecting which columns in the 'FIFA 21 Players' dataset contain newline characters\n",
    "Develop a strategy to effectively clean the data by replacing or removing these characters\n",
    "As before, make sure your solution keeps all other aspects of the data untouched\n",
    "Validate your solution by examining the cleaned dataset to ensure no more newline characters exist"
   ]
  },
  {
   "cell_type": "code",
   "execution_count": null,
   "metadata": {},
   "outputs": [],
   "source": [
    "# @title #### 02. Removing the Newline Characters\n",
    "\n",
    "# Put your code here:\n",
    "# fifa_df2['Club'] = fifa_df['Club'].str.replace('\\n', '')\n",
    "fifa_df2['Club'] = fifa_df2['Club'].map(lambda x : x.replace('\\n', ''))\n",
    "\n",
    "print(fifa_df2.to_string())"
   ]
  },
  {
   "cell_type": "markdown",
   "metadata": {},
   "source": []
  },
  {
   "cell_type": "code",
   "execution_count": null,
   "metadata": {},
   "outputs": [],
   "source": []
  },
  {
   "cell_type": "markdown",
   "metadata": {},
   "source": [
    "Task 3: Removing 'Star' Characters\n",
    "\n",
    "In this third task, we will continue with the theme of data cleaning. Your job in this task is to identify and eliminate the 'star' (★) characters from all the columns in the 'FIFA 21 Players' dataset.\n",
    "\n",
    "As guidelines for you:\n",
    "\n",
    "Begin with an overview of the dataset to identify the columns that contain the 'star' (★) characters.\n",
    "Formulate a strategy to remove these characters without distorting the remaining data in those columns.\n",
    "Adopt a solution that maintains the integrity of the original data.\n",
    "Finally, validate your solution by examining the cleaned dataset, ensuring that no 'star' characters remain in any columns."
   ]
  },
  {
   "cell_type": "code",
   "execution_count": null,
   "metadata": {},
   "outputs": [],
   "source": [
    "# @title #### 03. Removing 'Star' Characters\n",
    "\n",
    "# Put your code here:\n",
    "fifa_df3 = fifa_df2\n",
    "\n",
    "fifa_df3[['W/F', 'SM', 'IR']] = fifa_df3[['W/F', 'SM', 'IR']].apply(lambda x : x.str.replace('★', ''))\n",
    "\n",
    "print(fifa_df3.to_string())"
   ]
  },
  {
   "cell_type": "markdown",
   "metadata": {},
   "source": []
  },
  {
   "cell_type": "markdown",
   "metadata": {},
   "source": [
    "Task 4: Filling Missing Values\n",
    "\n",
    "In your fourth task, we turn our attention to missing values in our dataset. 'Loan End Date' and 'Hits' columns in the 'FIFA 21 Players' dataset contain some missing entries, which you are tasked with handling. Specifically, you are to fill the missing values in the 'Loan End Date' column with 'Not on Loan', and for the 'Hits' column, use the string 'Unknown'.\n",
    "\n",
    "Here are your pointers:\n",
    "\n",
    "Start with identifying the missing values in the mentioned columns of 'FIFA 21 Players' dataset.\n",
    "Apply appropriate methods to fill in the missing entries in 'Loan End Date' with 'Not on Loan' and 'Hits' column with 'Unknown', while maintaining the integrity of the existing data.\n",
    "After filling the missing values, verify that these have been correctly filled by inspecting the final state of your DataFrame."
   ]
  },
  {
   "cell_type": "code",
   "execution_count": null,
   "metadata": {},
   "outputs": [],
   "source": [
    "# @title #### 04. Filling Missing Values\n",
    "\n",
    "# Put your code here:\n",
    "fifa_df3 = fifa_df3.fillna({'Loan Date End': 'Not on Loan', 'Hits': 'Unknown'})\n",
    "\n",
    "print(fifa_df3.to_string())\n"
   ]
  },
  {
   "cell_type": "markdown",
   "metadata": {},
   "source": []
  },
  {
   "cell_type": "markdown",
   "metadata": {},
   "source": [
    "Task 5: Cleaning and Converting Financial Data\n",
    "\n",
    "In this fifth task, we will focus on improving the readability and workability of the financial data within our dataset. Here, you'll need to identify the 'Value', 'Wage', and 'Release Clause' columns in the 'FIFA 21 Players' dataset, which contain '€', 'K', and 'M' characters.\n",
    "\n",
    "Here's your course of action:\n",
    "\n",
    "The first step involves eliminating the '€' character in these columns, leaving only numeric values and 'K' or 'M' characters.\n",
    "After that, you're tasked with interpreting the 'K' and 'M' suffixes in these fields as 'x1000' and 'x1,000,000' respectively and subsequently changing the values in light of this new understanding. For example, 100K must be converted to 100000. We multiply 100 with 1000, do similar things for M.\n",
    "This interpreted data should then be converted to an 'int' data type, considering that these are financial amounts.\n",
    "Confirmation of the successful completion of the task can be achieved by validating your dataset once the changes have been made. This task will refine not just your data cleaning capabilities, but also your proficiency in handling and comprehending numerical data."
   ]
  },
  {
   "cell_type": "code",
   "execution_count": null,
   "metadata": {},
   "outputs": [],
   "source": [
    "# @title #### 05. Cleaning and Converting Financial Data\n",
    "\n",
    "# Put your code here:\n",
    "fifa_df4 = fifa_df3\n",
    "\n",
    "fifa_df4[['Value', 'Wage', 'Release Clause']] = fifa_df4[['Value', 'Wage', 'Release Clause']].replace({'€': '', 'K': '*1e3', 'M': '*1e6'}, regex=True).map(pd.eval).astype(np.int64)\n",
    "\n",
    "print(fifa_df4.to_string())"
   ]
  },
  {
   "cell_type": "markdown",
   "metadata": {},
   "source": []
  },
  {
   "cell_type": "markdown",
   "metadata": {},
   "source": [
    "DATA VISUALIZATION"
   ]
  },
  {
   "cell_type": "markdown",
   "metadata": {},
   "source": [
    "Task 6: Pie Chart Visualization of FIFA 21 Players' Preferred Foot\n",
    "\n",
    "In task six, we'll shift our focus from data cleaning to data visualization. Your project is to create a Pie Chart that illustrates the distribution of the preferred foot (either 'Left' or 'Right') among the FIFA 21 players from the dataset.\n",
    "\n",
    "Some helpful tips for you:\n",
    "\n",
    "- Begin by studying the 'Preferred Foot' column in the dataset and understand the structure of the column.\n",
    "- Then, calculate the frequency or count of players preferring each foot.\n",
    "- Make use of these frequencies to construct a Pie Chart that clearly lays out this distribution.\n",
    "- Ensure your Pie Chart is properly labeled with a suitable title, labels for each section (representing 'Left' and 'Right'), and displaying percentages for each section.\n",
    "- Lastly, display your Pie Chart using appropriate command, and verify that the chart correctly interprets the information in your DataFrame."
   ]
  },
  {
   "cell_type": "code",
   "execution_count": 77,
   "metadata": {},
   "outputs": [
    {
     "data": {
      "image/png": "[encoded data removed]",
      "text/plain": [
       "<Figure size 640x480 with 1 Axes>"
      ]
     },
     "metadata": {},
     "output_type": "display_data"
    }
   ],
   "source": [
    "# @title #### 06. Pie Chart Creation - Preferred Foot\n",
    "\n",
    "# Put your code here:\n",
    "kaki = fifa_df4['Preferred Foot'].value_counts()\n",
    "\n",
    "category = kaki.index\n",
    "totalCategory = kaki.values\n",
    "labelTotalCategory = ['Kaki kiri', 'Kaki kanan']\n",
    "\n",
    "plt.pie(totalCategory, labels=labelTotalCategory)\n",
    "\n",
    "# plt.savefig('preferred-foot.jpg', format='jpeg') # save image\n",
    "plt.title(\"Fifa Data Player's Preferred Foot\")\n",
    "plt.show()"
   ]
  },
  {
   "cell_type": "markdown",
   "metadata": {},
   "source": []
  },
  {
   "cell_type": "markdown",
   "metadata": {},
   "source": [
    "Task 7: Bar Plot Visualization of Top 6 FIFA 21 Players\n",
    "\n",
    "The seventh task entails creating a bar plot to represent the top 6 FIFA 21 players based on their 'OVA' values from the dataset. The 'OVA' column is a vital piece of information that represents the overall rating of a player.\n",
    "\n",
    "Here's what to consider as you tackle this task:\n",
    "\n",
    "Start by sorting the dataset in descending order of 'OVA' scores to bring the top-rated players to the top.\n",
    "Once the data is sorted, extract the top 6 players from our sorted dataset.\n",
    "The players' 'Name' and 'OVA' values are pertinent to this project; hence ensure these details are captured.\n",
    "Now, you're all set to create the bar plot, using players' names as the X-axis, and their corresponding 'OVA' ratings on the Y-axis.\n",
    "Finally, display your plot with suitable labels for each axis, and with an appropriate title verifying its representational accuracy."
   ]
  },
  {
   "cell_type": "code",
   "execution_count": null,
   "metadata": {},
   "outputs": [],
   "source": [
    "# @title #### 07. Bar Plot Creation - Top 6 Players\n",
    "\n",
    "# Put your code here: \n",
    "\n",
    "# fifa_df4 = fifa_df4['OVA'].sort_values(ascending=False)\n",
    "\n",
    "print(fifa_df4.to_string())\n",
    "\n",
    "# plt.savefig('top-6-players.jpg', format='jpeg') # save image\n",
    "# plt.show()"
   ]
  },
  {
   "cell_type": "markdown",
   "metadata": {},
   "source": [
    "Task 8: Bar Plot Visualization of Top 8 FIFA Teams with most numbers of Best Players\n",
    "\n",
    "In your eighth task, the focus shifts to the teams these excellent players belong to. Specifically, you are required to create a Bar Plot that visualizes the top 8 FIFA teams with the most players in the top 100 list, based on the 'OVA' score.\n",
    "\n",
    "Here's what you need to consider for this task:\n",
    "\n",
    "Start by sorting the dataset based on the 'OVA' column and take the first 100 records to obtain the top 100 players.\n",
    "Next, focus on the 'Club' column of these top 100 players and determine the frequencies of each club.\n",
    "Identify the top 8 clubs with the highest frequencies. These represent the top 8 clubs having the most players in the top 100.\n",
    "Finally, plot a Bar Plot with the Clubs' names on the X-axis, and the number of top players from each club on the Y-axis.\n",
    "Make sure to properly label your axes and give a fitting title to your plot, then display this visualization."
   ]
  },
  {
   "cell_type": "code",
   "execution_count": null,
   "metadata": {},
   "outputs": [],
   "source": [
    "# @title #### 08. Bar Plot Creation - Top 8 Teams with Best Players\n",
    "\n",
    "# Put your code here:\n",
    "\n",
    "\n",
    "plt.savefig('best-fifa-teams.jpg', format='jpeg') # save image\n",
    "plt.show()"
   ]
  },
  {
   "cell_type": "markdown",
   "metadata": {},
   "source": []
  },
  {
   "cell_type": "markdown",
   "metadata": {},
   "source": [
    "Task 9: Bar Plot Visualization of Top 10 FIFA Teams with the most players in Top 100 Valuable Players\n",
    "\n",
    "Your ninth task invites you to explore the value of teams within the FIFA 21 dataset. Your task is to generate a bar plot that showcases the top 10 FIFA teams with the most number of 'valuable' players. This 'value' pertains to the top 100 players based on their 'Value' attribute in the data set.\n",
    "\n",
    "Here are guidelines for the project:\n",
    "\n",
    "Start by sorting the entire data set based on the 'Value' column in descending order to find the players with the highest values.\n",
    "After creating this sorted data frame, extract the top 100 players for further analysis.\n",
    "Now shift your focus to the 'Club' attribute, compute the frequency occurrence of each club among these top players.\n",
    "From these frequencies, derive the top 10 clubs with the most valuable players.\n",
    "Lastly, plot a Bar Plot using the club names on the X-axis and the frequency of top players on the Y-axis. Ensure your plot includes a suitable title and labels for each axis.\n",
    "Display and verify the effectiveness of your visualization."
   ]
  },
  {
   "cell_type": "code",
   "execution_count": null,
   "metadata": {},
   "outputs": [],
   "source": [
    "# @title #### 09. Bar Plot Creation - Top 10 Teams with most Valuable Players\n",
    "\n",
    "# Put your code here:\n",
    "\n",
    "\n",
    "plt.savefig('most-valuable-teams.jpg', format='jpeg') # save image\n",
    "plt.show()"
   ]
  },
  {
   "cell_type": "markdown",
   "metadata": {},
   "source": []
  },
  {
   "cell_type": "markdown",
   "metadata": {},
   "source": [
    "Task 10: Scatter Plot for Underpaid but Valuable Players\n",
    "\n",
    "For your tenth task, we invite you to create a scatter plot to analyze and visualize FIFA 21 players who, despite their high value, are underpaid.\n",
    "\n",
    "Your task guidelines are as follows:\n",
    "\n",
    "Begin by setting up thresholds to define what we consider as 'high value' and 'low wage'. For instance, players in the top 25% in terms of 'Value' can be considered as high value, and those who fall in the bottom 25% for 'Wage' can be deemed as underpaid.\n",
    "Using these defined thresholds, identify the subset of players who are considered high value but underpaid.\n",
    "Now it's time to visualize: create a scatter plot where each point represents a player. You will plot all players in one color, while the underpaid and valuable players should be visibly distinguished.\n",
    "Make sure to include appropriate labels for axises and a title to your plot, ensuring clarity and insight into what's being visualized."
   ]
  },
  {
   "cell_type": "code",
   "execution_count": null,
   "metadata": {},
   "outputs": [],
   "source": [
    "# @title #### 10. Scatter Plot Creation - High Value, Underpaid Players\n",
    "\n",
    "# Put your code here:\n",
    "x = fifa_df4['Value']\n",
    "y = fifa_df4['Wage']\n",
    "\n",
    "plt.scatter(x, y, label='All Player')\n",
    "\n",
    "\n",
    "highValueThres = fifa_df4['Value'].quantile(0.75)\n",
    "lowWageThres = fifa_df4['Wage'].quantile(0.25)\n",
    "\n",
    "highValueUnderpaid = fifa_df4[(fifa_df4['Value'] >= highValueThres) & (fifa_df4['Wage'] <= lowWageThres)]\n",
    "\n",
    "x1 = highValueUnderpaid['Value']\n",
    "y1 = highValueUnderpaid['Wage']\n",
    "\n",
    "plt.scatter(x1,y1, label='High Value Underpaid Player')\n",
    "\n",
    "plt.legend()\n",
    "plt.ylabel(\"Player's Value\")\n",
    "plt.xlabel(\"Player's Wage\")\n",
    "plt.show()"
   ]
  }
 ],
 "metadata": {
  "kernelspec": {
   "display_name": "base",
   "language": "python",
   "name": "python3"
  },
  "language_info": {
   "codemirror_mode": {
    "name": "ipython",
    "version": 3
   },
   "file_extension": ".py",
   "mimetype": "text/x-python",
   "name": "python",
   "nbconvert_exporter": "python",
   "pygments_lexer": "ipython3",
   "version": "3.12.3"
  }
 },
 "nbformat": 4,
 "nbformat_minor": 2
}
